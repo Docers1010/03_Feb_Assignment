{
 "cells": [
  {
   "cell_type": "code",
   "execution_count": 1,
   "id": "515df927-3b6e-43f5-a2b6-01c2b4e6d018",
   "metadata": {},
   "outputs": [],
   "source": [
    "# Q1. Which keyword is used to create a function? Create a function to return a list of odd numbers in the\n",
    "# range of 1 to 25."
   ]
  },
  {
   "cell_type": "code",
   "execution_count": 2,
   "id": "5b23acc6-cd64-4893-a9d1-5f74aca83564",
   "metadata": {},
   "outputs": [],
   "source": [
    "# The keyword use to create function in python is \"def\"."
   ]
  },
  {
   "cell_type": "code",
   "execution_count": 7,
   "id": "875436bc-0039-448f-83fa-1fd01be45fe7",
   "metadata": {},
   "outputs": [],
   "source": [
    "def get_odd_number() : \n",
    "    odd_number = []\n",
    "    for i in range(1,26) : \n",
    "        if i % 2 != 0 : \n",
    "            odd_number.append(i)\n",
    "    return odd_number"
   ]
  },
  {
   "cell_type": "code",
   "execution_count": 5,
   "id": "66e4504a-0ab6-4607-821a-13e8eff3d7d7",
   "metadata": {},
   "outputs": [
    {
     "data": {
      "text/plain": [
       "[1, 3, 5, 7, 9, 11, 13, 15, 17, 19, 21, 23, 25]"
      ]
     },
     "execution_count": 5,
     "metadata": {},
     "output_type": "execute_result"
    }
   ],
   "source": [
    "get_odd_number()"
   ]
  },
  {
   "cell_type": "code",
   "execution_count": 8,
   "id": "132cb0e7-74d9-4296-a069-d0db754f3f2d",
   "metadata": {},
   "outputs": [],
   "source": [
    "# Q2. Why *args and **kwargs is used in some functions? Create a function each for *args and **kwargs\n",
    "# to demonstrate their use."
   ]
  },
  {
   "cell_type": "code",
   "execution_count": 9,
   "id": "27f832fa-1bad-41e8-9e53-82d134ee367c",
   "metadata": {},
   "outputs": [],
   "source": [
    "# In Python, *args and **kwargs are special syntax used in function definitions \n",
    "# to allow the function to accept an arbitrary number of arguments."
   ]
  },
  {
   "cell_type": "code",
   "execution_count": 10,
   "id": "80a5706f-4556-4c95-b4dc-c84afd7baa84",
   "metadata": {},
   "outputs": [],
   "source": [
    "# The '*args' syntax allows a function to accept any number of positional arguments.\n",
    "# When you use *args in a function definition any positional arguments,\n",
    "# passed to the function are collected into a tuple."
   ]
  },
  {
   "cell_type": "code",
   "execution_count": 11,
   "id": "1d1a3352-663a-41a7-90e2-2f6f245d8d0b",
   "metadata": {},
   "outputs": [],
   "source": [
    "# The **kwargs syntax allows a function to accept any number of keyword arguments (i.e. arguments passed with a name).\n",
    "# When you use **kwargs in a function definition, any keyword arguments passed to the function\n",
    "# are collected into a dictionary."
   ]
  },
  {
   "cell_type": "code",
   "execution_count": null,
   "id": "ad187bcc-3428-4d98-90c6-05cbb8ed311d",
   "metadata": {},
   "outputs": [],
   "source": [
    "# Function demonstrating the use of '*args':"
   ]
  },
  {
   "cell_type": "code",
   "execution_count": 30,
   "id": "f9b545da-4c8f-41f1-9f3b-aecae461ed28",
   "metadata": {},
   "outputs": [],
   "source": [
    "def test1(*args) : \n",
    "    for i in args : \n",
    "        return args"
   ]
  },
  {
   "cell_type": "code",
   "execution_count": 31,
   "id": "32bb10ef-9e98-4dec-8baa-9445491c73a3",
   "metadata": {},
   "outputs": [
    {
     "data": {
      "text/plain": [
       "(35, 63, [24, 69, 75], 'Khan')"
      ]
     },
     "execution_count": 31,
     "metadata": {},
     "output_type": "execute_result"
    }
   ],
   "source": [
    "test1(35,63,[24,69,75],\"Khan\")"
   ]
  },
  {
   "cell_type": "code",
   "execution_count": 32,
   "id": "d13dd777-ea11-4453-afb5-4ffdff02fce9",
   "metadata": {},
   "outputs": [
    {
     "data": {
      "text/plain": [
       "('Hi my name is Aamir',)"
      ]
     },
     "execution_count": 32,
     "metadata": {},
     "output_type": "execute_result"
    }
   ],
   "source": [
    "test1(\"Hi my name is Aamir\")"
   ]
  },
  {
   "cell_type": "code",
   "execution_count": 15,
   "id": "e1515442-a982-4f97-8f94-b4fe824566d8",
   "metadata": {},
   "outputs": [],
   "source": [
    "# Function demonstrating the use of '*kwargs':"
   ]
  },
  {
   "cell_type": "code",
   "execution_count": 4,
   "id": "c3eb8861-14d2-4aa9-bab1-33c72254ebc8",
   "metadata": {},
   "outputs": [],
   "source": [
    "def test2(**kwargs) : \n",
    "    for key, value in kwargs.items(): \n",
    "        return(kwargs)"
   ]
  },
  {
   "cell_type": "code",
   "execution_count": 6,
   "id": "39f6f770-86e9-421f-b597-0d2c54accc25",
   "metadata": {},
   "outputs": [
    {
     "data": {
      "text/plain": [
       "{'Name': 'Md Aamir Hussain Khan',\n",
       " 'Age': 28,\n",
       " 'city': 'Kolkata',\n",
       " 'Country': 'India'}"
      ]
     },
     "execution_count": 6,
     "metadata": {},
     "output_type": "execute_result"
    }
   ],
   "source": [
    "test2(Name = \"Md Aamir Hussain Khan\", Age = 28, city = \"Kolkata\", Country = \"India\")"
   ]
  },
  {
   "cell_type": "code",
   "execution_count": 33,
   "id": "ebba2746-7016-4e69-a046-d4f35d0ceef1",
   "metadata": {},
   "outputs": [],
   "source": [
    "# Q3. What is an iterator in python? Name the method used to initialise the iterator object and the method\n",
    "# used for iteration. Use these methods to print the first five elements of the given list [2, 4, 6, 8, 10, 12, 14,\n",
    "# 16, 18, 20]."
   ]
  },
  {
   "cell_type": "code",
   "execution_count": 34,
   "id": "845b3e62-cba6-4ef6-a07a-684f89bafd15",
   "metadata": {},
   "outputs": [],
   "source": [
    "# In Python, an iterator is an object that implements the iterator protocol, \n",
    "# which consists of the \"__iter__\" and \"__next__ methods\".\n",
    "\n",
    "#The \"__iter__\" method is used to return the iterator object itself, \n",
    "#while the \"__next__\" method is used to return the next value from the iterator.\n",
    "#When there are no more values to return, the \"__next__\" method raises the \"StopIteration\" exception."
   ]
  },
  {
   "cell_type": "code",
   "execution_count": 35,
   "id": "8029fd2e-4bce-4fc8-b61e-cffd1fb8b968",
   "metadata": {},
   "outputs": [],
   "source": [
    "# In Python, the method used to initialize the iterator object is \"__iter__()\". This method is \n",
    "# called when an iterator is created for an object and should return the iterator object itself.\n",
    "\n",
    "# The method used for iteration is \"__next__()\". This method is called each time you request the next value\n",
    "# from the iterator, and should return the next value in the iteration sequence. When there are no more values to return,\n",
    "# the \"__next__()\" method should raise the \"StopIteration\" exception to signal the end of the iteration."
   ]
  },
  {
   "cell_type": "code",
   "execution_count": 37,
   "id": "9ef4fee4-b905-4ba3-9653-053ff41d912f",
   "metadata": {},
   "outputs": [
    {
     "name": "stdout",
     "output_type": "stream",
     "text": [
      "2\n",
      "4\n",
      "6\n",
      "8\n",
      "10\n"
     ]
    }
   ],
   "source": [
    "my_list = [2, 4, 6, 8, 10, 12, 14, 16, 18, 20]\n",
    "my_iter = iter(my_list)\n",
    "\n",
    "for i in range(5):\n",
    "    print(next(my_iter))"
   ]
  },
  {
   "cell_type": "code",
   "execution_count": 38,
   "id": "fa5a99aa-55d9-4378-bc57-aab60463f3b1",
   "metadata": {},
   "outputs": [],
   "source": [
    "# Q4. What is a generator function in python? Why yield keyword is used? Give an example of a generator\n",
    "# function."
   ]
  },
  {
   "cell_type": "code",
   "execution_count": 39,
   "id": "e384ff4f-e8bf-4dd9-aaf2-3bf10c91df10",
   "metadata": {},
   "outputs": [],
   "source": [
    "# A generator function in Python is a special type of function that can be used to generate a sequence of values \n",
    "# on-the-fly. Unlike regular functions, which return a value and then exit, \n",
    "# generator functions can be paused and resumed, allowing them to produce a sequence of values over time."
   ]
  },
  {
   "cell_type": "code",
   "execution_count": 40,
   "id": "307a20c0-e2f4-4eea-9a28-3781db59b5df",
   "metadata": {},
   "outputs": [],
   "source": [
    "# Generator functions use the \"yield\" keyword to return a value and pause the function execution, \n",
    "# and can be resumed later by calling the function again. Each time the function is resumed, \n",
    "# it picks up where it left off and continues execution until the next \"yield\" statement."
   ]
  },
  {
   "cell_type": "code",
   "execution_count": null,
   "id": "3bb5688a-cf93-4da1-a952-3a23d55c672d",
   "metadata": {},
   "outputs": [],
   "source": [
    "# Example of Generator function:"
   ]
  },
  {
   "cell_type": "code",
   "execution_count": 41,
   "id": "de5744bf-40a4-4ebe-bde3-1fe65e22dc02",
   "metadata": {},
   "outputs": [],
   "source": [
    "def fibonacci(n):\n",
    "    a, b = 0, 1\n",
    "    for i in range(n):\n",
    "        yield a\n",
    "        a, b = b, a + b"
   ]
  },
  {
   "cell_type": "code",
   "execution_count": 44,
   "id": "3223313f-41e5-4ab0-b1cb-000d666b148c",
   "metadata": {},
   "outputs": [
    {
     "data": {
      "text/plain": [
       "<generator object fibonacci at 0x7eff80645fc0>"
      ]
     },
     "execution_count": 44,
     "metadata": {},
     "output_type": "execute_result"
    }
   ],
   "source": [
    "fibonacci(10)"
   ]
  },
  {
   "cell_type": "code",
   "execution_count": 45,
   "id": "e7fbd847-e8e0-49f2-9643-10f76fe5237f",
   "metadata": {},
   "outputs": [
    {
     "data": {
      "text/plain": [
       "[0, 1, 1, 2, 3, 5, 8, 13, 21, 34]"
      ]
     },
     "execution_count": 45,
     "metadata": {},
     "output_type": "execute_result"
    }
   ],
   "source": [
    "list(fibonacci(10))"
   ]
  },
  {
   "cell_type": "code",
   "execution_count": 7,
   "id": "d3cf3564-0c5e-464a-87a4-299ea0159ffa",
   "metadata": {},
   "outputs": [],
   "source": [
    "# Q5. Create a generator function for prime numbers less than 1000. Use the next() method to print the\n",
    "# first 20 prime numbers."
   ]
  },
  {
   "cell_type": "code",
   "execution_count": 8,
   "id": "5232acbd-85f3-416a-b867-9de4443791ef",
   "metadata": {},
   "outputs": [],
   "source": [
    "# Generator function for prime number less than 1000 :"
   ]
  },
  {
   "cell_type": "code",
   "execution_count": 13,
   "id": "1e31dc94-afba-4ac8-b54b-85dfc1ece72c",
   "metadata": {},
   "outputs": [],
   "source": [
    "def primes() : \n",
    "    \"\"\"Generator function that yields prime number less than 1000\"\"\"\n",
    "    for i in range(2,1000) : \n",
    "        is_prime = True\n",
    "        for j in range(2,int(i ** 0.5) +1) : \n",
    "            if i % j == 0 :\n",
    "                is_prime = False\n",
    "                break\n",
    "        if is_prime : \n",
    "            yield i\n",
    "            "
   ]
  },
  {
   "cell_type": "code",
   "execution_count": 16,
   "id": "68205c36-d706-406d-a17b-c367698f9b34",
   "metadata": {},
   "outputs": [
    {
     "data": {
      "text/plain": [
       "[2,\n",
       " 3,\n",
       " 5,\n",
       " 7,\n",
       " 11,\n",
       " 13,\n",
       " 17,\n",
       " 19,\n",
       " 23,\n",
       " 29,\n",
       " 31,\n",
       " 37,\n",
       " 41,\n",
       " 43,\n",
       " 47,\n",
       " 53,\n",
       " 59,\n",
       " 61,\n",
       " 67,\n",
       " 71,\n",
       " 73,\n",
       " 79,\n",
       " 83,\n",
       " 89,\n",
       " 97,\n",
       " 101,\n",
       " 103,\n",
       " 107,\n",
       " 109,\n",
       " 113,\n",
       " 127,\n",
       " 131,\n",
       " 137,\n",
       " 139,\n",
       " 149,\n",
       " 151,\n",
       " 157,\n",
       " 163,\n",
       " 167,\n",
       " 173,\n",
       " 179,\n",
       " 181,\n",
       " 191,\n",
       " 193,\n",
       " 197,\n",
       " 199,\n",
       " 211,\n",
       " 223,\n",
       " 227,\n",
       " 229,\n",
       " 233,\n",
       " 239,\n",
       " 241,\n",
       " 251,\n",
       " 257,\n",
       " 263,\n",
       " 269,\n",
       " 271,\n",
       " 277,\n",
       " 281,\n",
       " 283,\n",
       " 293,\n",
       " 307,\n",
       " 311,\n",
       " 313,\n",
       " 317,\n",
       " 331,\n",
       " 337,\n",
       " 347,\n",
       " 349,\n",
       " 353,\n",
       " 359,\n",
       " 367,\n",
       " 373,\n",
       " 379,\n",
       " 383,\n",
       " 389,\n",
       " 397,\n",
       " 401,\n",
       " 409,\n",
       " 419,\n",
       " 421,\n",
       " 431,\n",
       " 433,\n",
       " 439,\n",
       " 443,\n",
       " 449,\n",
       " 457,\n",
       " 461,\n",
       " 463,\n",
       " 467,\n",
       " 479,\n",
       " 487,\n",
       " 491,\n",
       " 499,\n",
       " 503,\n",
       " 509,\n",
       " 521,\n",
       " 523,\n",
       " 541,\n",
       " 547,\n",
       " 557,\n",
       " 563,\n",
       " 569,\n",
       " 571,\n",
       " 577,\n",
       " 587,\n",
       " 593,\n",
       " 599,\n",
       " 601,\n",
       " 607,\n",
       " 613,\n",
       " 617,\n",
       " 619,\n",
       " 631,\n",
       " 641,\n",
       " 643,\n",
       " 647,\n",
       " 653,\n",
       " 659,\n",
       " 661,\n",
       " 673,\n",
       " 677,\n",
       " 683,\n",
       " 691,\n",
       " 701,\n",
       " 709,\n",
       " 719,\n",
       " 727,\n",
       " 733,\n",
       " 739,\n",
       " 743,\n",
       " 751,\n",
       " 757,\n",
       " 761,\n",
       " 769,\n",
       " 773,\n",
       " 787,\n",
       " 797,\n",
       " 809,\n",
       " 811,\n",
       " 821,\n",
       " 823,\n",
       " 827,\n",
       " 829,\n",
       " 839,\n",
       " 853,\n",
       " 857,\n",
       " 859,\n",
       " 863,\n",
       " 877,\n",
       " 881,\n",
       " 883,\n",
       " 887,\n",
       " 907,\n",
       " 911,\n",
       " 919,\n",
       " 929,\n",
       " 937,\n",
       " 941,\n",
       " 947,\n",
       " 953,\n",
       " 967,\n",
       " 971,\n",
       " 977,\n",
       " 983,\n",
       " 991,\n",
       " 997]"
      ]
     },
     "execution_count": 16,
     "metadata": {},
     "output_type": "execute_result"
    }
   ],
   "source": [
    "list(primes())"
   ]
  },
  {
   "cell_type": "code",
   "execution_count": 17,
   "id": "b6c91c52-577a-453e-8b27-d927deb57604",
   "metadata": {},
   "outputs": [],
   "source": [
    "# next() method to print the first 20 prime numbers:"
   ]
  },
  {
   "cell_type": "code",
   "execution_count": 18,
   "id": "1f5fa479-8ae8-470d-9ac7-9281982663b3",
   "metadata": {},
   "outputs": [
    {
     "name": "stdout",
     "output_type": "stream",
     "text": [
      "2\n",
      "3\n",
      "5\n",
      "7\n",
      "11\n",
      "13\n",
      "17\n",
      "19\n",
      "23\n",
      "29\n",
      "31\n",
      "37\n",
      "41\n",
      "43\n",
      "47\n",
      "53\n",
      "59\n",
      "61\n",
      "67\n",
      "71\n"
     ]
    }
   ],
   "source": [
    "def primes_1():\n",
    "    num = 2\n",
    "    while True:\n",
    "        is_prime = True\n",
    "        for i in range(2,int(num**0.5)+1):\n",
    "            if num % i == 0:\n",
    "                is_prime = False\n",
    "                break\n",
    "        if is_prime:\n",
    "            yield num\n",
    "        num += 1\n",
    "prime_generator = primes_1()\n",
    "for i in range(20):\n",
    "    print(next(prime_generator))\n",
    "        \n"
   ]
  },
  {
   "cell_type": "code",
   "execution_count": 19,
   "id": "e1366e5e-bc38-4ba2-8e61-aa451ed65192",
   "metadata": {},
   "outputs": [],
   "source": [
    "# Q6. Write a python program to print the first 10 Fibonacci numbers using a while loop."
   ]
  },
  {
   "cell_type": "code",
   "execution_count": 21,
   "id": "fe690558-c69c-4ff8-b3bd-ae4cc61439f7",
   "metadata": {},
   "outputs": [
    {
     "name": "stdout",
     "output_type": "stream",
     "text": [
      "0\n",
      "1\n",
      "1\n",
      "2\n",
      "3\n",
      "5\n",
      "8\n",
      "13\n",
      "21\n",
      "34\n"
     ]
    }
   ],
   "source": [
    "a, b = 0,1\n",
    "counter = 0\n",
    "while counter < 10:\n",
    "    print(a)\n",
    "    a,b = b, a+b\n",
    "    counter += 1"
   ]
  },
  {
   "cell_type": "code",
   "execution_count": 22,
   "id": "bb258792-fa62-4d7e-ad66-0c09b986e793",
   "metadata": {},
   "outputs": [],
   "source": [
    "# Q7. Write a List Comprehension to iterate through the given string: ‘pwskills’.\n",
    "# Expected output: ['p', 'w', 's', 'k', 'i', 'l', 'l', 's'] "
   ]
  },
  {
   "cell_type": "code",
   "execution_count": 23,
   "id": "80b13fff-7b1c-45c1-b06b-19508cf3eb84",
   "metadata": {},
   "outputs": [
    {
     "name": "stdout",
     "output_type": "stream",
     "text": [
      "['p', 'w', 's', 'k', 'i', 'l', 'l', 's']\n"
     ]
    }
   ],
   "source": [
    "string = \"pwskills\"\n",
    "result = [i for i in string if i != \"e\"]\n",
    "print(result)"
   ]
  },
  {
   "cell_type": "code",
   "execution_count": 1,
   "id": "e9e17f2a-bd16-42f2-89ee-ee2e412f411c",
   "metadata": {},
   "outputs": [],
   "source": [
    "# Q8. Write a python program to check whether a given number is Palindrome or not using a while loop."
   ]
  },
  {
   "cell_type": "code",
   "execution_count": 5,
   "id": "82064288-d741-487d-ad08-c45b370fcb6b",
   "metadata": {},
   "outputs": [
    {
     "name": "stdin",
     "output_type": "stream",
     "text": [
      "Enter a number 6336\n"
     ]
    },
    {
     "name": "stdout",
     "output_type": "stream",
     "text": [
      "6336  is a palindrome number\n"
     ]
    }
   ],
   "source": [
    "num = int(input(\"Enter a number\"))\n",
    "temp_num = num\n",
    "rev_num = 0\n",
    "while temp_num > 0:\n",
    "    digit = temp_num % 10\n",
    "    rev_num = rev_num * 10 + digit\n",
    "    temp_num //= 10\n",
    "if num == rev_num:\n",
    "    print(num, \" is a palindrome number\")\n",
    "else:\n",
    "    print(num, \" is not a palindrome number\")"
   ]
  },
  {
   "cell_type": "code",
   "execution_count": 6,
   "id": "e5dc23b5-a9aa-4c87-a57a-f172faab676b",
   "metadata": {},
   "outputs": [],
   "source": [
    "# Q9. Write a code to print odd numbers from 1 to 100 using list comprehension."
   ]
  },
  {
   "cell_type": "code",
   "execution_count": 7,
   "id": "4853ac8c-a28f-44dd-aa97-43896ae727d5",
   "metadata": {},
   "outputs": [
    {
     "name": "stdout",
     "output_type": "stream",
     "text": [
      "[1, 3, 5, 7, 9, 11, 13, 15, 17, 19, 21, 23, 25, 27, 29, 31, 33, 35, 37, 39, 41, 43, 45, 47, 49, 51, 53, 55, 57, 59, 61, 63, 65, 67, 69, 71, 73, 75, 77, 79, 81, 83, 85, 87, 89, 91, 93, 95, 97, 99]\n"
     ]
    }
   ],
   "source": [
    "odd_nums = [num for num in range(1, 101) if num % 2 != 0]\n",
    "print(odd_nums)"
   ]
  },
  {
   "cell_type": "code",
   "execution_count": null,
   "id": "3a56feea-6c7b-4dd6-8adc-dce8c7fe831a",
   "metadata": {},
   "outputs": [],
   "source": []
  }
 ],
 "metadata": {
  "kernelspec": {
   "display_name": "Python 3 (ipykernel)",
   "language": "python",
   "name": "python3"
  },
  "language_info": {
   "codemirror_mode": {
    "name": "ipython",
    "version": 3
   },
   "file_extension": ".py",
   "mimetype": "text/x-python",
   "name": "python",
   "nbconvert_exporter": "python",
   "pygments_lexer": "ipython3",
   "version": "3.10.8"
  }
 },
 "nbformat": 4,
 "nbformat_minor": 5
}
